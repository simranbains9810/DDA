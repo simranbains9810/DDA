{
 "cells": [
  {
   "cell_type": "markdown",
   "id": "546d6ad0",
   "metadata": {},
   "source": [
    "# Using Logistic Regression in the Iris Dataset"
   ]
  },
  {
   "cell_type": "code",
   "execution_count": 1,
   "id": "27ce8660",
   "metadata": {},
   "outputs": [
    {
     "data": {
      "text/html": [
       "<div>\n",
       "<style scoped>\n",
       "    .dataframe tbody tr th:only-of-type {\n",
       "        vertical-align: middle;\n",
       "    }\n",
       "\n",
       "    .dataframe tbody tr th {\n",
       "        vertical-align: top;\n",
       "    }\n",
       "\n",
       "    .dataframe thead th {\n",
       "        text-align: right;\n",
       "    }\n",
       "</style>\n",
       "<table border=\"1\" class=\"dataframe\">\n",
       "  <thead>\n",
       "    <tr style=\"text-align: right;\">\n",
       "      <th></th>\n",
       "      <th>SepalLength</th>\n",
       "      <th>SepalWidth</th>\n",
       "      <th>PetalLength</th>\n",
       "      <th>PetalWidth</th>\n",
       "      <th>Name</th>\n",
       "    </tr>\n",
       "  </thead>\n",
       "  <tbody>\n",
       "    <tr>\n",
       "      <th>0</th>\n",
       "      <td>5.1</td>\n",
       "      <td>3.5</td>\n",
       "      <td>1.4</td>\n",
       "      <td>0.2</td>\n",
       "      <td>Iris-setosa</td>\n",
       "    </tr>\n",
       "    <tr>\n",
       "      <th>1</th>\n",
       "      <td>4.9</td>\n",
       "      <td>3.0</td>\n",
       "      <td>1.4</td>\n",
       "      <td>0.2</td>\n",
       "      <td>Iris-setosa</td>\n",
       "    </tr>\n",
       "    <tr>\n",
       "      <th>2</th>\n",
       "      <td>4.7</td>\n",
       "      <td>3.2</td>\n",
       "      <td>1.3</td>\n",
       "      <td>0.2</td>\n",
       "      <td>Iris-setosa</td>\n",
       "    </tr>\n",
       "    <tr>\n",
       "      <th>3</th>\n",
       "      <td>4.6</td>\n",
       "      <td>3.1</td>\n",
       "      <td>1.5</td>\n",
       "      <td>0.2</td>\n",
       "      <td>Iris-setosa</td>\n",
       "    </tr>\n",
       "    <tr>\n",
       "      <th>4</th>\n",
       "      <td>5.0</td>\n",
       "      <td>3.6</td>\n",
       "      <td>1.4</td>\n",
       "      <td>0.2</td>\n",
       "      <td>Iris-setosa</td>\n",
       "    </tr>\n",
       "    <tr>\n",
       "      <th>...</th>\n",
       "      <td>...</td>\n",
       "      <td>...</td>\n",
       "      <td>...</td>\n",
       "      <td>...</td>\n",
       "      <td>...</td>\n",
       "    </tr>\n",
       "    <tr>\n",
       "      <th>145</th>\n",
       "      <td>6.7</td>\n",
       "      <td>3.0</td>\n",
       "      <td>5.2</td>\n",
       "      <td>2.3</td>\n",
       "      <td>Iris-virginica</td>\n",
       "    </tr>\n",
       "    <tr>\n",
       "      <th>146</th>\n",
       "      <td>6.3</td>\n",
       "      <td>2.5</td>\n",
       "      <td>5.0</td>\n",
       "      <td>1.9</td>\n",
       "      <td>Iris-virginica</td>\n",
       "    </tr>\n",
       "    <tr>\n",
       "      <th>147</th>\n",
       "      <td>6.5</td>\n",
       "      <td>3.0</td>\n",
       "      <td>5.2</td>\n",
       "      <td>2.0</td>\n",
       "      <td>Iris-virginica</td>\n",
       "    </tr>\n",
       "    <tr>\n",
       "      <th>148</th>\n",
       "      <td>6.2</td>\n",
       "      <td>3.4</td>\n",
       "      <td>5.4</td>\n",
       "      <td>2.3</td>\n",
       "      <td>Iris-virginica</td>\n",
       "    </tr>\n",
       "    <tr>\n",
       "      <th>149</th>\n",
       "      <td>5.9</td>\n",
       "      <td>3.0</td>\n",
       "      <td>5.1</td>\n",
       "      <td>1.8</td>\n",
       "      <td>Iris-virginica</td>\n",
       "    </tr>\n",
       "  </tbody>\n",
       "</table>\n",
       "<p>150 rows × 5 columns</p>\n",
       "</div>"
      ],
      "text/plain": [
       "     SepalLength  SepalWidth  PetalLength  PetalWidth            Name\n",
       "0            5.1         3.5          1.4         0.2     Iris-setosa\n",
       "1            4.9         3.0          1.4         0.2     Iris-setosa\n",
       "2            4.7         3.2          1.3         0.2     Iris-setosa\n",
       "3            4.6         3.1          1.5         0.2     Iris-setosa\n",
       "4            5.0         3.6          1.4         0.2     Iris-setosa\n",
       "..           ...         ...          ...         ...             ...\n",
       "145          6.7         3.0          5.2         2.3  Iris-virginica\n",
       "146          6.3         2.5          5.0         1.9  Iris-virginica\n",
       "147          6.5         3.0          5.2         2.0  Iris-virginica\n",
       "148          6.2         3.4          5.4         2.3  Iris-virginica\n",
       "149          5.9         3.0          5.1         1.8  Iris-virginica\n",
       "\n",
       "[150 rows x 5 columns]"
      ]
     },
     "execution_count": 1,
     "metadata": {},
     "output_type": "execute_result"
    }
   ],
   "source": [
    "import pandas as pd\n",
    "\n",
    "iris_data = pd.read_csv('Iris.csv')\n",
    "iris_data"
   ]
  },
  {
   "cell_type": "markdown",
   "id": "07318110",
   "metadata": {},
   "source": [
    "\"\"\"**Question 2:** Examine the data schema by printing the *types* of data for each column. Provide the answer for each question.\"\"\""
   ]
  },
  {
   "cell_type": "code",
   "execution_count": 2,
   "id": "003cbc02",
   "metadata": {},
   "outputs": [
    {
     "data": {
      "text/plain": [
       "SepalLength    float64\n",
       "SepalWidth     float64\n",
       "PetalLength    float64\n",
       "PetalWidth     float64\n",
       "Name            object\n",
       "dtype: object"
      ]
     },
     "execution_count": 2,
     "metadata": {},
     "output_type": "execute_result"
    }
   ],
   "source": [
    "iris_data.dtypes"
   ]
  },
  {
   "cell_type": "code",
   "execution_count": 3,
   "id": "474a1503",
   "metadata": {},
   "outputs": [],
   "source": [
    "# How many columns do we have? __5__\n",
    "\n",
    "# What type is the sepal.length column? __String__"
   ]
  },
  {
   "cell_type": "markdown",
   "id": "f46961e8",
   "metadata": {},
   "source": [
    "\"\"\"**Question 3:** Continue examining the dataset, let us focus on the numerical data, columns include:\n",
    "*  sepal.length -> float64\n",
    "*  sepal.width -> float64\n",
    "*  petal.length -> float64\n",
    "*  petal.width -> float64\n",
    "\n",
    "Describe the dataset and answer the following questions\n",
    "\n",
    "\"\"\""
   ]
  },
  {
   "cell_type": "code",
   "execution_count": 4,
   "id": "73707a2f",
   "metadata": {},
   "outputs": [
    {
     "data": {
      "text/html": [
       "<div>\n",
       "<style scoped>\n",
       "    .dataframe tbody tr th:only-of-type {\n",
       "        vertical-align: middle;\n",
       "    }\n",
       "\n",
       "    .dataframe tbody tr th {\n",
       "        vertical-align: top;\n",
       "    }\n",
       "\n",
       "    .dataframe thead th {\n",
       "        text-align: right;\n",
       "    }\n",
       "</style>\n",
       "<table border=\"1\" class=\"dataframe\">\n",
       "  <thead>\n",
       "    <tr style=\"text-align: right;\">\n",
       "      <th></th>\n",
       "      <th>SepalLength</th>\n",
       "      <th>SepalWidth</th>\n",
       "      <th>PetalLength</th>\n",
       "      <th>PetalWidth</th>\n",
       "    </tr>\n",
       "  </thead>\n",
       "  <tbody>\n",
       "    <tr>\n",
       "      <th>count</th>\n",
       "      <td>150.000000</td>\n",
       "      <td>150.000000</td>\n",
       "      <td>150.000000</td>\n",
       "      <td>150.000000</td>\n",
       "    </tr>\n",
       "    <tr>\n",
       "      <th>mean</th>\n",
       "      <td>5.843333</td>\n",
       "      <td>3.054000</td>\n",
       "      <td>3.758667</td>\n",
       "      <td>1.198667</td>\n",
       "    </tr>\n",
       "    <tr>\n",
       "      <th>std</th>\n",
       "      <td>0.828066</td>\n",
       "      <td>0.433594</td>\n",
       "      <td>1.764420</td>\n",
       "      <td>0.763161</td>\n",
       "    </tr>\n",
       "    <tr>\n",
       "      <th>min</th>\n",
       "      <td>4.300000</td>\n",
       "      <td>2.000000</td>\n",
       "      <td>1.000000</td>\n",
       "      <td>0.100000</td>\n",
       "    </tr>\n",
       "    <tr>\n",
       "      <th>25%</th>\n",
       "      <td>5.100000</td>\n",
       "      <td>2.800000</td>\n",
       "      <td>1.600000</td>\n",
       "      <td>0.300000</td>\n",
       "    </tr>\n",
       "    <tr>\n",
       "      <th>50%</th>\n",
       "      <td>5.800000</td>\n",
       "      <td>3.000000</td>\n",
       "      <td>4.350000</td>\n",
       "      <td>1.300000</td>\n",
       "    </tr>\n",
       "    <tr>\n",
       "      <th>75%</th>\n",
       "      <td>6.400000</td>\n",
       "      <td>3.300000</td>\n",
       "      <td>5.100000</td>\n",
       "      <td>1.800000</td>\n",
       "    </tr>\n",
       "    <tr>\n",
       "      <th>max</th>\n",
       "      <td>7.900000</td>\n",
       "      <td>4.400000</td>\n",
       "      <td>6.900000</td>\n",
       "      <td>2.500000</td>\n",
       "    </tr>\n",
       "  </tbody>\n",
       "</table>\n",
       "</div>"
      ],
      "text/plain": [
       "       SepalLength  SepalWidth  PetalLength  PetalWidth\n",
       "count   150.000000  150.000000   150.000000  150.000000\n",
       "mean      5.843333    3.054000     3.758667    1.198667\n",
       "std       0.828066    0.433594     1.764420    0.763161\n",
       "min       4.300000    2.000000     1.000000    0.100000\n",
       "25%       5.100000    2.800000     1.600000    0.300000\n",
       "50%       5.800000    3.000000     4.350000    1.300000\n",
       "75%       6.400000    3.300000     5.100000    1.800000\n",
       "max       7.900000    4.400000     6.900000    2.500000"
      ]
     },
     "execution_count": 4,
     "metadata": {},
     "output_type": "execute_result"
    }
   ],
   "source": [
    "iris_data.describe()"
   ]
  },
  {
   "cell_type": "markdown",
   "id": "fe3c0514",
   "metadata": {},
   "source": [
    "\"\"\"**Question 4:** We will need to split our dataset into feature data **(X)** and target data **(y)**.\n",
    "\n",
    "We will use the sepal length and width, and the petal length and width to predict a flower's class (variety).\n",
    "\n",
    "So, the feature data is:\n",
    "*  sepal.length\n",
    "*  sepal.width\n",
    "*  petal.length\n",
    "*  petal.width\n",
    "\n",
    "The target data is:\n",
    "*  variety\n",
    "\n",
    "Extract the data for the feature variables (and associated columns) and store it in a new dataframe called **iris_data_feature_data**. This will be our **X** variable.\n",
    "\n",
    "\"\"\""
   ]
  },
  {
   "cell_type": "code",
   "execution_count": 5,
   "id": "50e0b2c4",
   "metadata": {},
   "outputs": [],
   "source": [
    "iris_data_feature_data = iris_data[['SepalLength','SepalWidth','PetalLength','PetalWidth']]\n",
    "X = iris_data_feature_data"
   ]
  },
  {
   "cell_type": "markdown",
   "id": "b555d53d",
   "metadata": {},
   "source": [
    "\"\"\"**Question 5:** Now we will need to create the **iris_data_feature_target** dataframe. The new dataframe will store only the target values that is the variety column. This will be our **y** variable.\"\"\""
   ]
  },
  {
   "cell_type": "code",
   "execution_count": 6,
   "id": "fbc982c5",
   "metadata": {},
   "outputs": [],
   "source": [
    "iris_data_feature_target = iris_data[['Name']]\n",
    "y = iris_data_feature_target"
   ]
  },
  {
   "cell_type": "markdown",
   "id": "178c64e4",
   "metadata": {},
   "source": [
    "\"\"\"**Question 6:** Create a new *LogisticRegression model* and then fit the **X** and **y** dataframes that we just created. Make sure you revise the class slides to create your model.\n",
    "\n",
    "**Do not worry about the warnings.**\n",
    "\"\"\""
   ]
  },
  {
   "cell_type": "markdown",
   "id": "c56a5765",
   "metadata": {},
   "source": [
    "from sklearn.linear_model import LogisticRegression\n",
    "\n",
    "logreg = LogisticRegression(max_iter=200)\n",
    "\n",
    "logreg.fit(X,y)"
   ]
  },
  {
   "cell_type": "markdown",
   "id": "480d3c47",
   "metadata": {},
   "source": [
    "\"\"\"**Question 7:** Our model is now ready to use, test your model using the following data to predict a flower's class:\n",
    "\n",
    "**Set 1**\n",
    "*  sepal.length: 4.5\n",
    "*  sepal.width: 3.2\n",
    "*  petal.length: 1.1\n",
    "*  petal.width: 0.4\n",
    "\n",
    "**Set 2**\n",
    "*  sepal.length: 6.9\n",
    "*  sepal.width: 3.0\n",
    "*  petal.length: 4.6\n",
    "*  petal.width: 1.5\n",
    "\n",
    "**Set 3**\n",
    "*  sepal.length: 6\n",
    "*  sepal.width: 3.5\n",
    "*  petal.length: 5.5\n",
    "*  petal.width: 2\n",
    "\n",
    "\"\"\""
   ]
  },
  {
   "cell_type": "code",
   "execution_count": 8,
   "id": "4e94dadf",
   "metadata": {},
   "outputs": [
    {
     "ename": "NameError",
     "evalue": "name 'logreg' is not defined",
     "output_type": "error",
     "traceback": [
      "\u001b[0;31m---------------------------------------------------------------------------\u001b[0m",
      "\u001b[0;31mNameError\u001b[0m                                 Traceback (most recent call last)",
      "\u001b[0;32m/var/folders/t0/vv75knk555sbfc42cx0y7wg80000gn/T/ipykernel_2088/1228538049.py\u001b[0m in \u001b[0;36m<module>\u001b[0;34m\u001b[0m\n\u001b[1;32m      1\u001b[0m \u001b[0;31m# Prediction for set 1\u001b[0m\u001b[0;34m\u001b[0m\u001b[0;34m\u001b[0m\u001b[0m\n\u001b[0;32m----> 2\u001b[0;31m \u001b[0mprint\u001b[0m\u001b[0;34m(\u001b[0m\u001b[0mlogreg\u001b[0m\u001b[0;34m.\u001b[0m\u001b[0mpredict\u001b[0m\u001b[0;34m(\u001b[0m\u001b[0;34m[\u001b[0m\u001b[0;34m[\u001b[0m\u001b[0;36m4.5\u001b[0m\u001b[0;34m,\u001b[0m \u001b[0;36m3.2\u001b[0m\u001b[0;34m,\u001b[0m \u001b[0;36m1.1\u001b[0m\u001b[0;34m,\u001b[0m \u001b[0;36m0.4\u001b[0m\u001b[0;34m]\u001b[0m\u001b[0;34m]\u001b[0m\u001b[0;34m)\u001b[0m\u001b[0;34m)\u001b[0m\u001b[0;34m\u001b[0m\u001b[0;34m\u001b[0m\u001b[0m\n\u001b[0m\u001b[1;32m      3\u001b[0m \u001b[0;34m\u001b[0m\u001b[0m\n\u001b[1;32m      4\u001b[0m \u001b[0;31m# Prediction for set 2\u001b[0m\u001b[0;34m\u001b[0m\u001b[0;34m\u001b[0m\u001b[0m\n\u001b[1;32m      5\u001b[0m \u001b[0mprint\u001b[0m\u001b[0;34m(\u001b[0m\u001b[0mlogreg\u001b[0m\u001b[0;34m.\u001b[0m\u001b[0mpredict\u001b[0m\u001b[0;34m(\u001b[0m\u001b[0;34m[\u001b[0m\u001b[0;34m[\u001b[0m\u001b[0;36m6.9\u001b[0m\u001b[0;34m,\u001b[0m \u001b[0;36m3.0\u001b[0m\u001b[0;34m,\u001b[0m \u001b[0;36m4.6\u001b[0m\u001b[0;34m,\u001b[0m \u001b[0;36m1.5\u001b[0m\u001b[0;34m]\u001b[0m\u001b[0;34m]\u001b[0m\u001b[0;34m)\u001b[0m\u001b[0;34m)\u001b[0m\u001b[0;34m\u001b[0m\u001b[0;34m\u001b[0m\u001b[0m\n",
      "\u001b[0;31mNameError\u001b[0m: name 'logreg' is not defined"
     ]
    }
   ],
   "source": [
    "# Prediction for set 1\n",
    "print(logreg.predict([[4.5, 3.2, 1.1, 0.4]]))\n",
    "\n",
    "# Prediction for set 2\n",
    "print(logreg.predict([[6.9, 3.0, 4.6, 1.5]]))\n",
    "\n",
    "# Prediction for set 3\n",
    "print(logreg.predict([[6, 3.5, 5.5, 2]]))"
   ]
  },
  {
   "cell_type": "markdown",
   "id": "c1e49dac",
   "metadata": {},
   "source": [
    "\"\"\"**Question 8:** What is the prediction of the KNN model for the same data sets? Revise last week's exercises if needed.\n",
    "\n",
    "Create your KNN model and fit it using the **X** and **y** variables from the previous step. Use the *KNeighborsClassifier* including 4 neighbors.\n",
    "\"\"\""
   ]
  },
  {
   "cell_type": "code",
   "execution_count": 9,
   "id": "15984ae8",
   "metadata": {},
   "outputs": [
    {
     "name": "stderr",
     "output_type": "stream",
     "text": [
      "/Users/simranbains/opt/anaconda3/lib/python3.9/site-packages/sklearn/neighbors/_classification.py:179: DataConversionWarning: A column-vector y was passed when a 1d array was expected. Please change the shape of y to (n_samples,), for example using ravel().\n",
      "  return self._fit(X, y)\n"
     ]
    },
    {
     "data": {
      "text/plain": [
       "KNeighborsClassifier(n_neighbors=4)"
      ]
     },
     "execution_count": 9,
     "metadata": {},
     "output_type": "execute_result"
    }
   ],
   "source": [
    "from sklearn.neighbors import KNeighborsClassifier\n",
    "knn = KNeighborsClassifier(n_neighbors=4)\n",
    "knn.fit(X, y)"
   ]
  },
  {
   "cell_type": "markdown",
   "id": "19098d65",
   "metadata": {},
   "source": [
    "\"\"\"**Question 9:** Our KNN model is now ready to use, test your model using the following data to predict a flower's class (same as in question 7):\n",
    "\n",
    "**Set 1**\n",
    "*  sepal.length: 4.5\n",
    "*  sepal.width: 3.2\n",
    "*  petal.length: 1.1\n",
    "*  petal.width: 0.4\n",
    "\n",
    "**Set 2**\n",
    "*  sepal.length: 6.9\n",
    "*  sepal.width: 3.0\n",
    "*  petal.length: 4.6\n",
    "*  petal.width: 1.5\n",
    "\n",
    "**Set 3**\n",
    "*  sepal.length: 6\n",
    "*  sepal.width: 3.5\n",
    "*  petal.length: 5.5\n",
    "*  petal.width: 2\n",
    "\n",
    "\"\"\""
   ]
  },
  {
   "cell_type": "code",
   "execution_count": 10,
   "id": "22b67655",
   "metadata": {},
   "outputs": [
    {
     "name": "stdout",
     "output_type": "stream",
     "text": [
      "['Iris-setosa']\n",
      "['Iris-versicolor']\n",
      "['Iris-virginica']\n"
     ]
    }
   ],
   "source": [
    "# Prediction for set 1\n",
    "print(knn.predict([[4.5, 3.2, 1.1, 0.4]]))\n",
    "\n",
    "# Prediction for set 2\n",
    "print(knn.predict([[6.9, 3.0, 4.6, 1.5]]))\n",
    "\n",
    "# Prediction for set 3\n",
    "print(knn.predict([[6, 3.5, 5.5, 2]]))"
   ]
  },
  {
   "cell_type": "markdown",
   "id": "5746b7a6",
   "metadata": {},
   "source": [
    "\"\"\"**Question 10:** Compare the results between logistic regression and KNN.\"\"\""
   ]
  },
  {
   "cell_type": "code",
   "execution_count": 11,
   "id": "15c6bfef",
   "metadata": {},
   "outputs": [],
   "source": [
    "# We have the same or different predictions?\n",
    "# __Same__!"
   ]
  },
  {
   "cell_type": "markdown",
   "id": "1f6ca5da",
   "metadata": {},
   "source": [
    "# Using Classification Methods for data analysis"
   ]
  },
  {
   "cell_type": "code",
   "execution_count": 12,
   "id": "5577f099",
   "metadata": {},
   "outputs": [
    {
     "data": {
      "text/html": [
       "<div>\n",
       "<style scoped>\n",
       "    .dataframe tbody tr th:only-of-type {\n",
       "        vertical-align: middle;\n",
       "    }\n",
       "\n",
       "    .dataframe tbody tr th {\n",
       "        vertical-align: top;\n",
       "    }\n",
       "\n",
       "    .dataframe thead th {\n",
       "        text-align: right;\n",
       "    }\n",
       "</style>\n",
       "<table border=\"1\" class=\"dataframe\">\n",
       "  <thead>\n",
       "    <tr style=\"text-align: right;\">\n",
       "      <th></th>\n",
       "      <th>fruit_label</th>\n",
       "      <th>fruit_name</th>\n",
       "      <th>fruit_subtype</th>\n",
       "      <th>mass</th>\n",
       "      <th>width</th>\n",
       "      <th>height</th>\n",
       "      <th>color_score</th>\n",
       "    </tr>\n",
       "  </thead>\n",
       "  <tbody>\n",
       "    <tr>\n",
       "      <th>0</th>\n",
       "      <td>1</td>\n",
       "      <td>apple</td>\n",
       "      <td>granny_smith</td>\n",
       "      <td>192</td>\n",
       "      <td>8.4</td>\n",
       "      <td>7.3</td>\n",
       "      <td>0.55</td>\n",
       "    </tr>\n",
       "    <tr>\n",
       "      <th>1</th>\n",
       "      <td>1</td>\n",
       "      <td>apple</td>\n",
       "      <td>granny_smith</td>\n",
       "      <td>180</td>\n",
       "      <td>8.0</td>\n",
       "      <td>6.8</td>\n",
       "      <td>0.59</td>\n",
       "    </tr>\n",
       "    <tr>\n",
       "      <th>2</th>\n",
       "      <td>1</td>\n",
       "      <td>apple</td>\n",
       "      <td>granny_smith</td>\n",
       "      <td>176</td>\n",
       "      <td>7.4</td>\n",
       "      <td>7.2</td>\n",
       "      <td>0.60</td>\n",
       "    </tr>\n",
       "    <tr>\n",
       "      <th>3</th>\n",
       "      <td>2</td>\n",
       "      <td>mandarin</td>\n",
       "      <td>mandarin</td>\n",
       "      <td>86</td>\n",
       "      <td>6.2</td>\n",
       "      <td>4.7</td>\n",
       "      <td>0.80</td>\n",
       "    </tr>\n",
       "    <tr>\n",
       "      <th>4</th>\n",
       "      <td>2</td>\n",
       "      <td>mandarin</td>\n",
       "      <td>mandarin</td>\n",
       "      <td>84</td>\n",
       "      <td>6.0</td>\n",
       "      <td>4.6</td>\n",
       "      <td>0.79</td>\n",
       "    </tr>\n",
       "  </tbody>\n",
       "</table>\n",
       "</div>"
      ],
      "text/plain": [
       "   fruit_label fruit_name fruit_subtype  mass  width  height  color_score\n",
       "0            1      apple  granny_smith   192    8.4     7.3         0.55\n",
       "1            1      apple  granny_smith   180    8.0     6.8         0.59\n",
       "2            1      apple  granny_smith   176    7.4     7.2         0.60\n",
       "3            2   mandarin      mandarin    86    6.2     4.7         0.80\n",
       "4            2   mandarin      mandarin    84    6.0     4.6         0.79"
      ]
     },
     "execution_count": 12,
     "metadata": {},
     "output_type": "execute_result"
    }
   ],
   "source": [
    "import pandas as pd\n",
    "\n",
    "fruits_data = pd.read_csv('fruit_data_with_colours.csv')\n",
    "fruits_data.head()"
   ]
  },
  {
   "cell_type": "markdown",
   "id": "e1bf39c9",
   "metadata": {},
   "source": [
    "\"\"\"**Question 2.1:** How many records and how many columns do we have in this dataset?\"\"\""
   ]
  },
  {
   "cell_type": "code",
   "execution_count": 13,
   "id": "d34a2626",
   "metadata": {},
   "outputs": [
    {
     "name": "stdout",
     "output_type": "stream",
     "text": [
      "(59, 7)\n"
     ]
    }
   ],
   "source": [
    "print(fruits_data.shape)"
   ]
  },
  {
   "cell_type": "markdown",
   "id": "e597bba2",
   "metadata": {},
   "source": [
    "\"\"\"**Question 2.2:** How many unique fruits are in the dataset? Study and run the following.\"\"\""
   ]
  },
  {
   "cell_type": "code",
   "execution_count": 14,
   "id": "7676c7f5",
   "metadata": {},
   "outputs": [
    {
     "name": "stdout",
     "output_type": "stream",
     "text": [
      "['apple' 'mandarin' 'orange' 'lemon']\n"
     ]
    }
   ],
   "source": [
    "print(fruits_data['fruit_name'].unique())"
   ]
  },
  {
   "cell_type": "markdown",
   "id": "9afbe7cf",
   "metadata": {},
   "source": [
    "\"\"\"**Question 3:** How many apples, oranges, lemons, mandarines exists in my dataset?. Provide a script to count the instances of each fruit by **fruit_name**. Use the **value_counts()** method.\n",
    "\n",
    "> Check this link: https://pandas.pydata.org/pandas-docs/stable/reference/api/pandas.Series.value_counts.html\n",
    "\"\"\""
   ]
  },
  {
   "cell_type": "code",
   "execution_count": 15,
   "id": "df0dd16b",
   "metadata": {},
   "outputs": [
    {
     "data": {
      "text/plain": [
       "turkey_navel        10\n",
       "unknown             10\n",
       "cripps_pink          6\n",
       "selected_seconds     6\n",
       "spanish_belsan       6\n",
       "mandarin             5\n",
       "braeburn             5\n",
       "golden_delicious     5\n",
       "granny_smith         3\n",
       "spanish_jumbo        3\n",
       "Name: fruit_subtype, dtype: int64"
      ]
     },
     "execution_count": 15,
     "metadata": {},
     "output_type": "execute_result"
    }
   ],
   "source": [
    "#fruits_data['fruit_name'].value_counts()\n",
    "fruits_data['fruit_subtype'].value_counts()"
   ]
  },
  {
   "cell_type": "markdown",
   "id": "6219eeab",
   "metadata": {},
   "source": [
    "\"\"\"**Question 4:** Lets visualise the fruit counts using a simple bar graph.\"\"\""
   ]
  },
  {
   "cell_type": "code",
   "execution_count": 16,
   "id": "3a844f3c",
   "metadata": {},
   "outputs": [],
   "source": [
    "import seaborn as sns\n",
    "import matplotlib.pyplot as plt"
   ]
  },
  {
   "cell_type": "code",
   "execution_count": 17,
   "id": "5024748c",
   "metadata": {},
   "outputs": [
    {
     "name": "stderr",
     "output_type": "stream",
     "text": [
      "/Users/simranbains/opt/anaconda3/lib/python3.9/site-packages/seaborn/_decorators.py:36: FutureWarning: Pass the following variable as a keyword arg: x. From version 0.12, the only valid positional argument will be `data`, and passing other arguments without an explicit keyword will result in an error or misinterpretation.\n",
      "  warnings.warn(\n"
     ]
    },
    {
     "data": {
      "image/png": "[encoded data removed]",
      "text/plain": [
       "<Figure size 432x288 with 1 Axes>"
      ]
     },
     "metadata": {
      "needs_background": "light"
     },
     "output_type": "display_data"
    }
   ],
   "source": [
    "sns.countplot(fruits_data['fruit_name'], label=\"Count\", palette=\"Set3\")\n",
    "plt.show()"
   ]
  },
  {
   "cell_type": "markdown",
   "id": "92c30b81",
   "metadata": {},
   "source": [
    "\"\"\"**Question 5.1:** Plot the boxplot and examine the distribution of the data.\"\"\""
   ]
  },
  {
   "cell_type": "code",
   "execution_count": 18,
   "id": "d16d63a6",
   "metadata": {},
   "outputs": [
    {
     "data": {
      "image/png": "[encoded data removed]",
      "text/plain": [
       "<Figure size 720x720 with 4 Axes>"
      ]
     },
     "metadata": {
      "needs_background": "light"
     },
     "output_type": "display_data"
    }
   ],
   "source": [
    "fruits_data.drop('fruit_label', axis=1).plot(kind='box', subplots=True, layout=(2,2), \n",
    "                                         figsize=(10,10), \n",
    "                                        color ='c', patch_artist=True)\n",
    "plt.suptitle(\"Box Plot for each input variable\")\n",
    "plt.savefig('fruits_boxplot')\n",
    "plt.show()"
   ]
  },
  {
   "cell_type": "markdown",
   "id": "e352b3ac",
   "metadata": {},
   "source": [
    "\"\"\"**Question 5.2:** Create a pairplot for the fruits dataset using as hue the **fruit_name**. You can use these markers **[\"o\", \"s\",\"v\", \"D\"]**. \n",
    "\n",
    "Use the following columns:\n",
    "* 'fruit_name', 'mass', 'width', 'height', 'color_score'\n",
    "\n",
    "\"\"\""
   ]
  },
  {
   "cell_type": "code",
   "execution_count": 19,
   "id": "b7fbe7fb",
   "metadata": {},
   "outputs": [
    {
     "data": {
      "image/png": "[encoded data removed]",
      "text/plain": [
       "<Figure size 948x864 with 20 Axes>"
      ]
     },
     "metadata": {
      "needs_background": "light"
     },
     "output_type": "display_data"
    }
   ],
   "source": [
    "sns.pairplot(fruits_data[['fruit_name','mass','width','height','color_score']], hue = \"fruit_name\", height=3, markers=[\"o\", \"s\",\"v\", \"D\"])\n",
    "plt.show()"
   ]
  },
  {
   "cell_type": "markdown",
   "id": "68d18300",
   "metadata": {},
   "source": [
    "\"\"\"**TASK 1:** Can you use the KNN algorith to model this dataset?\n",
    "\n",
    "What are the features to use as X and y?\n",
    "This is for you to decide!\n",
    "\n",
    "* **Skip the next questions, study the data and create KNN and logistic regression classifiers to model the fruits dataset and provide scripts for some random predictions**.\n",
    "\n",
    "The next section provides examples of such tasks. You can review it after, but first try it your self. Feel free to improvise!\n",
    "\n",
    "**TASK 2:** Can you find a dataset in kaggle.com?\n",
    "\n",
    "* Use the following link to find data for classification:\n",
    "https://www.kaggle.com/datasets \n",
    "\n",
    "* Run a simple KNN or logistic regression classifier.\n",
    "\"\"\""
   ]
  },
  {
   "cell_type": "markdown",
   "id": "ceb84c08",
   "metadata": {},
   "source": [
    "# Stretch Questions"
   ]
  },
  {
   "cell_type": "markdown",
   "id": "3e24961b",
   "metadata": {},
   "source": [
    "**Question 6:** Load the fruit_data_with_colours.csv file. Create the X and the y variables for a KNN classifier to model the relationships between **fruit_name** and **mass, width, height** and **color_score**.\n",
    "\"\"\""
   ]
  },
  {
   "cell_type": "code",
   "execution_count": 20,
   "id": "54389e88",
   "metadata": {},
   "outputs": [
    {
     "name": "stdout",
     "output_type": "stream",
     "text": [
      "mass           59\n",
      "width          59\n",
      "height         59\n",
      "color_score    59\n",
      "dtype: int64\n",
      "--\n",
      "fruit_name    59\n",
      "dtype: int64\n"
     ]
    }
   ],
   "source": [
    "X= fruits_data[['mass', 'width','height','color_score']]\n",
    "y= fruits_data[['fruit_name']]\n",
    "\n",
    "print(X.count())\n",
    "print('--')\n",
    "print(y.count())"
   ]
  },
  {
   "cell_type": "markdown",
   "id": "97f21ba3",
   "metadata": {},
   "source": [
    "\"\"\"**Question 7:** Create your KNN model and fit the data using the **X** and **y** variables from the previous step. Use the *KNeighborsClassifier* including 4 neighbors.\"\"\""
   ]
  },
  {
   "cell_type": "code",
   "execution_count": 21,
   "id": "e0cc5b3d",
   "metadata": {},
   "outputs": [
    {
     "name": "stderr",
     "output_type": "stream",
     "text": [
      "/Users/simranbains/opt/anaconda3/lib/python3.9/site-packages/sklearn/neighbors/_classification.py:179: DataConversionWarning: A column-vector y was passed when a 1d array was expected. Please change the shape of y to (n_samples,), for example using ravel().\n",
      "  return self._fit(X, y)\n"
     ]
    },
    {
     "data": {
      "text/plain": [
       "KNeighborsClassifier(n_neighbors=4)"
      ]
     },
     "execution_count": 21,
     "metadata": {},
     "output_type": "execute_result"
    }
   ],
   "source": [
    "from sklearn.neighbors import KNeighborsClassifier\n",
    "knn = KNeighborsClassifier(n_neighbors=4)\n",
    "knn.fit(X, y)"
   ]
  },
  {
   "cell_type": "markdown",
   "id": "61d19bf0",
   "metadata": {},
   "source": [
    "\"\"\"**Question 8:** Provide a script to *predict* the class of a fruit using the following data:\n",
    "*  mass = 181\n",
    "*  width = 8.2\n",
    "*  height = 6.7\n",
    "*  color_score = 0.56\n",
    "\"\"\""
   ]
  },
  {
   "cell_type": "code",
   "execution_count": 22,
   "id": "34068ffc",
   "metadata": {},
   "outputs": [
    {
     "data": {
      "text/plain": [
       "array(['apple'], dtype=object)"
      ]
     },
     "execution_count": 22,
     "metadata": {},
     "output_type": "execute_result"
    }
   ],
   "source": [
    "knn.predict([[181,8.2,6.7,0.56]])"
   ]
  },
  {
   "cell_type": "markdown",
   "id": "a0a790fa",
   "metadata": {},
   "source": [
    "\"\"\"**Question 9:** Provide a script to *predict* the class of a fruit using the following data:\n",
    "*  mass = 83\n",
    "*  width = 5.9\n",
    "*  height = 4.5\n",
    "*  color_score = 0.78\n",
    "\"\"\""
   ]
  },
  {
   "cell_type": "code",
   "execution_count": 23,
   "id": "9f703418",
   "metadata": {},
   "outputs": [
    {
     "data": {
      "text/plain": [
       "array(['mandarin'], dtype=object)"
      ]
     },
     "execution_count": 23,
     "metadata": {},
     "output_type": "execute_result"
    }
   ],
   "source": [
    "knn.predict([[83,5.9,4.5,0.78]])"
   ]
  },
  {
   "cell_type": "markdown",
   "id": "6915c3d2",
   "metadata": {},
   "source": [
    "\"\"\"**Question 10:** Create a logistic regression model. \n",
    "\n",
    "**Do not worry about the warnings.**\n",
    "\"\"\""
   ]
  },
  {
   "cell_type": "code",
   "execution_count": 24,
   "id": "1b868012",
   "metadata": {},
   "outputs": [
    {
     "name": "stderr",
     "output_type": "stream",
     "text": [
      "/Users/simranbains/opt/anaconda3/lib/python3.9/site-packages/sklearn/utils/validation.py:63: DataConversionWarning: A column-vector y was passed when a 1d array was expected. Please change the shape of y to (n_samples, ), for example using ravel().\n",
      "  return f(*args, **kwargs)\n",
      "/Users/simranbains/opt/anaconda3/lib/python3.9/site-packages/sklearn/linear_model/_logistic.py:763: ConvergenceWarning: lbfgs failed to converge (status=1):\n",
      "STOP: TOTAL NO. of ITERATIONS REACHED LIMIT.\n",
      "\n",
      "Increase the number of iterations (max_iter) or scale the data as shown in:\n",
      "    https://scikit-learn.org/stable/modules/preprocessing.html\n",
      "Please also refer to the documentation for alternative solver options:\n",
      "    https://scikit-learn.org/stable/modules/linear_model.html#logistic-regression\n",
      "  n_iter_i = _check_optimize_result(\n"
     ]
    },
    {
     "data": {
      "text/plain": [
       "LogisticRegression(max_iter=500)"
      ]
     },
     "execution_count": 24,
     "metadata": {},
     "output_type": "execute_result"
    }
   ],
   "source": [
    "from sklearn.linear_model import LogisticRegression\n",
    "\n",
    "logreg = LogisticRegression(max_iter=500)\n",
    "\n",
    "logreg.fit(X,y)"
   ]
  },
  {
   "cell_type": "markdown",
   "id": "5c764bd8",
   "metadata": {},
   "source": [
    "\"\"\"**Question 11:** Provide a script to *predict* the class of a fruit using the logistic regression model and the next data:\n",
    "*  mass = 181\n",
    "*  width = 8.2\n",
    "*  height = 6.7\n",
    "*  color_score = 0.56\n",
    "\"\"\""
   ]
  },
  {
   "cell_type": "code",
   "execution_count": 25,
   "id": "d7d0c44d",
   "metadata": {},
   "outputs": [
    {
     "data": {
      "text/plain": [
       "array(['apple'], dtype=object)"
      ]
     },
     "execution_count": 25,
     "metadata": {},
     "output_type": "execute_result"
    }
   ],
   "source": [
    "logreg.predict([[181,8.2,6.7,0.56]])"
   ]
  },
  {
   "cell_type": "markdown",
   "id": "2cee6b00",
   "metadata": {},
   "source": [
    "# **PART 4: Logistic Regression**"
   ]
  },
  {
   "cell_type": "code",
   "execution_count": null,
   "id": "2e9d3c37",
   "metadata": {},
   "outputs": [],
   "source": [
    "iris_data_feature_data = iris_data[['SepalLength','SepalWidth','PetalLength','PetalWidth']]\n",
    "X = iris_data_feature_data"
   ]
  },
  {
   "cell_type": "code",
   "execution_count": null,
   "id": "aaebf38e",
   "metadata": {},
   "outputs": [],
   "source": [
    "iris_data_feature_target = iris_data[['Name']]\n",
    "y = iris_data_feature_target"
   ]
  },
  {
   "cell_type": "code",
   "execution_count": 26,
   "id": "119f4246",
   "metadata": {},
   "outputs": [
    {
     "name": "stderr",
     "output_type": "stream",
     "text": [
      "/Users/simranbains/opt/anaconda3/lib/python3.9/site-packages/sklearn/utils/validation.py:63: DataConversionWarning: A column-vector y was passed when a 1d array was expected. Please change the shape of y to (n_samples, ), for example using ravel().\n",
      "  return f(*args, **kwargs)\n",
      "/Users/simranbains/opt/anaconda3/lib/python3.9/site-packages/sklearn/linear_model/_logistic.py:763: ConvergenceWarning: lbfgs failed to converge (status=1):\n",
      "STOP: TOTAL NO. of ITERATIONS REACHED LIMIT.\n",
      "\n",
      "Increase the number of iterations (max_iter) or scale the data as shown in:\n",
      "    https://scikit-learn.org/stable/modules/preprocessing.html\n",
      "Please also refer to the documentation for alternative solver options:\n",
      "    https://scikit-learn.org/stable/modules/linear_model.html#logistic-regression\n",
      "  n_iter_i = _check_optimize_result(\n"
     ]
    },
    {
     "data": {
      "text/plain": [
       "LogisticRegression(max_iter=200)"
      ]
     },
     "execution_count": 26,
     "metadata": {},
     "output_type": "execute_result"
    }
   ],
   "source": [
    "from sklearn.linear_model import LogisticRegression\n",
    "\n",
    "logreg = LogisticRegression(max_iter=200)\n",
    "\n",
    "logreg.fit(X,y)"
   ]
  },
  {
   "cell_type": "code",
   "execution_count": 28,
   "id": "f06603dd",
   "metadata": {},
   "outputs": [
    {
     "name": "stdout",
     "output_type": "stream",
     "text": [
      "['mandarin']\n",
      "['mandarin']\n",
      "['mandarin']\n"
     ]
    }
   ],
   "source": [
    "# Prediction for set 1\n",
    "print(logreg.predict([[4.5, 3.2, 1.1, 0.4]]))\n",
    "\n",
    "# Prediction for set 2\n",
    "print(logreg.predict([[6.9, 3.0, 4.6, 1.5]]))\n",
    "\n",
    "# Prediction for set 3\n",
    "print(logreg.predict([[6, 3.5, 5.5, 2]]))"
   ]
  },
  {
   "cell_type": "markdown",
   "id": "b6a1d490",
   "metadata": {},
   "source": [
    "The aim of the classification algorithms is to help us predict the class of an unknown dataset. Similar to KNN, logistic regression shows very good results for our test cases. "
   ]
  },
  {
   "cell_type": "code",
   "execution_count": null,
   "id": "40c10718",
   "metadata": {},
   "outputs": [],
   "source": []
  }
 ],
 "metadata": {
  "kernelspec": {
   "display_name": "Python 3 (ipykernel)",
   "language": "python",
   "name": "python3"
  },
  "language_info": {
   "codemirror_mode": {
    "name": "ipython",
    "version": 3
   },
   "file_extension": ".py",
   "mimetype": "text/x-python",
   "name": "python",
   "nbconvert_exporter": "python",
   "pygments_lexer": "ipython3",
   "version": "3.9.7"
  }
 },
 "nbformat": 4,
 "nbformat_minor": 5
}
